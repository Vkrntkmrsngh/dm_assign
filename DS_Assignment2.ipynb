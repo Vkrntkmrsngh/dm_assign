{
 "cells": [
  {
   "cell_type": "code",
   "execution_count": 1,
   "metadata": {},
   "outputs": [],
   "source": [
    "def is_bal(exp):\n",
    "    stack=[]\n",
    "    count=0\n",
    "    pos=0\n",
    "    for val in exp:\n",
    "        \n",
    "        if val=='S':\n",
    "            stack.append(val)\n",
    "        else:\n",
    "            try:\n",
    "                stack.pop()\n",
    "                if stack==[]:\n",
    "                    count+=1\n",
    "                    pos=0\n",
    "            except IndexError:\n",
    "                print(count)\n",
    "                return False\n",
    "    print(count)\n",
    "    return len(stack)==0"
   ]
  },
  {
   "cell_type": "code",
   "execution_count": 2,
   "metadata": {},
   "outputs": [
    {
     "name": "stdout",
     "output_type": "stream",
     "text": [
      "2\n",
      "1\n",
      "2\n",
      "1\n",
      "0\n"
     ]
    },
    {
     "data": {
      "text/plain": [
       "False"
      ]
     },
     "execution_count": 2,
     "metadata": {},
     "output_type": "execute_result"
    }
   ],
   "source": [
    "exp1='SPSSPP'\n",
    "exp2='SPPPPSSPS'\n",
    "exp3='SPSSSPPSPP'\n",
    "exp4='SSSSPPPP'\n",
    "exp5='PSPSPS'\n",
    "is_bal(exp1)\n",
    "is_bal(exp2)\n",
    "is_bal(exp3)\n",
    "is_bal(exp4)\n",
    "is_bal(exp5)"
   ]
  },
  {
   "cell_type": "code",
   "execution_count": null,
   "metadata": {},
   "outputs": [],
   "source": []
  }
 ],
 "metadata": {
  "kernelspec": {
   "display_name": "Python 3",
   "language": "python",
   "name": "python3"
  },
  "language_info": {
   "codemirror_mode": {
    "name": "ipython",
    "version": 3
   },
   "file_extension": ".py",
   "mimetype": "text/x-python",
   "name": "python",
   "nbconvert_exporter": "python",
   "pygments_lexer": "ipython3",
   "version": "3.8.5"
  }
 },
 "nbformat": 4,
 "nbformat_minor": 4
}
