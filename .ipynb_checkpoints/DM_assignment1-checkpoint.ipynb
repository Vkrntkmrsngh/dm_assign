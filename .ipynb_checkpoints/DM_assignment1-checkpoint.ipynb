{
 "cells": [
  {
   "cell_type": "markdown",
   "metadata": {},
   "source": [
    "# Problem Statement 1"
   ]
  },
  {
   "cell_type": "markdown",
   "metadata": {},
   "source": [
    "### Importing all required libraries"
   ]
  },
  {
   "cell_type": "code",
   "execution_count": 106,
   "metadata": {},
   "outputs": [],
   "source": [
    "import os\n",
    "import numpy as np\n",
    "import pandas as pd\n",
    "from matplotlib import pyplot\n",
    "from sklearn.linear_model import LogisticRegression\n",
    "from catboost import CatBoostClassifier\n",
    "from sklearn.metrics import confusion_matrix,recall_score,precision_score,f1_score,roc_auc_score,roc_curve,accuracy_score\n",
    "from sklearn.preprocessing import LabelEncoder"
   ]
  },
  {
   "cell_type": "markdown",
   "metadata": {},
   "source": [
    "### read data file with all default columns"
   ]
  },
  {
   "cell_type": "code",
   "execution_count": 91,
   "metadata": {
    "collapsed": true
   },
   "outputs": [],
   "source": [
    "train_df=pd.read_csv('dataset.csv',index_col='customerID')"
   ]
  },
  {
   "cell_type": "markdown",
   "metadata": {},
   "source": [
    "## Exploratory Data Analysis"
   ]
  },
  {
   "cell_type": "code",
   "execution_count": 92,
   "metadata": {
    "collapsed": true
   },
   "outputs": [
    {
     "name": "stdout",
     "output_type": "stream",
     "text": [
      "<class 'pandas.core.frame.DataFrame'>\n",
      "Index: 7043 entries, 7590-VHVEG to 3186-AJIEK\n",
      "Data columns (total 15 columns):\n",
      " #   Column            Non-Null Count  Dtype  \n",
      "---  ------            --------------  -----  \n",
      " 0   gender            7043 non-null   object \n",
      " 1   SeniorCitizen     7043 non-null   int64  \n",
      " 2   Partner           7043 non-null   object \n",
      " 3   Dependents        7043 non-null   object \n",
      " 4   tenure            7043 non-null   int64  \n",
      " 5   PhoneService      7043 non-null   object \n",
      " 6   MultipleLines     7043 non-null   object \n",
      " 7   InternetService   7043 non-null   object \n",
      " 8   StreamingService  7043 non-null   object \n",
      " 9   Contract          7043 non-null   object \n",
      " 10  PaperlessBilling  7043 non-null   object \n",
      " 11  PaymentMethod     7043 non-null   object \n",
      " 12  MonthlyCharges    7043 non-null   float64\n",
      " 13  TotalCharges      7043 non-null   object \n",
      " 14  Churn             7043 non-null   object \n",
      "dtypes: float64(1), int64(2), object(12)\n",
      "memory usage: 880.4+ KB\n"
     ]
    }
   ],
   "source": [
    "#informatin about all columns\n",
    "train_df.info()"
   ]
  },
  {
   "cell_type": "code",
   "execution_count": 93,
   "metadata": {
    "collapsed": true
   },
   "outputs": [
    {
     "data": {
      "text/html": [
       "<div>\n",
       "<style scoped>\n",
       "    .dataframe tbody tr th:only-of-type {\n",
       "        vertical-align: middle;\n",
       "    }\n",
       "\n",
       "    .dataframe tbody tr th {\n",
       "        vertical-align: top;\n",
       "    }\n",
       "\n",
       "    .dataframe thead th {\n",
       "        text-align: right;\n",
       "    }\n",
       "</style>\n",
       "<table border=\"1\" class=\"dataframe\">\n",
       "  <thead>\n",
       "    <tr style=\"text-align: right;\">\n",
       "      <th></th>\n",
       "      <th>gender</th>\n",
       "      <th>SeniorCitizen</th>\n",
       "      <th>Partner</th>\n",
       "      <th>Dependents</th>\n",
       "      <th>tenure</th>\n",
       "      <th>PhoneService</th>\n",
       "      <th>MultipleLines</th>\n",
       "      <th>InternetService</th>\n",
       "      <th>StreamingService</th>\n",
       "      <th>Contract</th>\n",
       "      <th>PaperlessBilling</th>\n",
       "      <th>PaymentMethod</th>\n",
       "      <th>MonthlyCharges</th>\n",
       "      <th>TotalCharges</th>\n",
       "      <th>Churn</th>\n",
       "    </tr>\n",
       "    <tr>\n",
       "      <th>customerID</th>\n",
       "      <th></th>\n",
       "      <th></th>\n",
       "      <th></th>\n",
       "      <th></th>\n",
       "      <th></th>\n",
       "      <th></th>\n",
       "      <th></th>\n",
       "      <th></th>\n",
       "      <th></th>\n",
       "      <th></th>\n",
       "      <th></th>\n",
       "      <th></th>\n",
       "      <th></th>\n",
       "      <th></th>\n",
       "      <th></th>\n",
       "    </tr>\n",
       "  </thead>\n",
       "  <tbody>\n",
       "    <tr>\n",
       "      <th>4472-LVYGI</th>\n",
       "      <td>Female</td>\n",
       "      <td>0</td>\n",
       "      <td>Yes</td>\n",
       "      <td>Yes</td>\n",
       "      <td>0</td>\n",
       "      <td>No</td>\n",
       "      <td>No phone service</td>\n",
       "      <td>DSL</td>\n",
       "      <td>Yes</td>\n",
       "      <td>Two year</td>\n",
       "      <td>Yes</td>\n",
       "      <td>Bank transfer (automatic)</td>\n",
       "      <td>52.55</td>\n",
       "      <td></td>\n",
       "      <td>No</td>\n",
       "    </tr>\n",
       "    <tr>\n",
       "      <th>3115-CZMZD</th>\n",
       "      <td>Male</td>\n",
       "      <td>0</td>\n",
       "      <td>No</td>\n",
       "      <td>Yes</td>\n",
       "      <td>0</td>\n",
       "      <td>Yes</td>\n",
       "      <td>No</td>\n",
       "      <td>No</td>\n",
       "      <td>No internet service</td>\n",
       "      <td>Two year</td>\n",
       "      <td>No</td>\n",
       "      <td>Mailed check</td>\n",
       "      <td>20.25</td>\n",
       "      <td></td>\n",
       "      <td>No</td>\n",
       "    </tr>\n",
       "    <tr>\n",
       "      <th>5709-LVOEQ</th>\n",
       "      <td>Female</td>\n",
       "      <td>0</td>\n",
       "      <td>Yes</td>\n",
       "      <td>Yes</td>\n",
       "      <td>0</td>\n",
       "      <td>Yes</td>\n",
       "      <td>No</td>\n",
       "      <td>DSL</td>\n",
       "      <td>Yes</td>\n",
       "      <td>Two year</td>\n",
       "      <td>No</td>\n",
       "      <td>Mailed check</td>\n",
       "      <td>80.85</td>\n",
       "      <td></td>\n",
       "      <td>No</td>\n",
       "    </tr>\n",
       "    <tr>\n",
       "      <th>4367-NUYAO</th>\n",
       "      <td>Male</td>\n",
       "      <td>0</td>\n",
       "      <td>Yes</td>\n",
       "      <td>Yes</td>\n",
       "      <td>0</td>\n",
       "      <td>Yes</td>\n",
       "      <td>Yes</td>\n",
       "      <td>No</td>\n",
       "      <td>No internet service</td>\n",
       "      <td>Two year</td>\n",
       "      <td>No</td>\n",
       "      <td>Mailed check</td>\n",
       "      <td>25.75</td>\n",
       "      <td></td>\n",
       "      <td>No</td>\n",
       "    </tr>\n",
       "    <tr>\n",
       "      <th>1371-DWPAZ</th>\n",
       "      <td>Female</td>\n",
       "      <td>0</td>\n",
       "      <td>Yes</td>\n",
       "      <td>Yes</td>\n",
       "      <td>0</td>\n",
       "      <td>No</td>\n",
       "      <td>No phone service</td>\n",
       "      <td>DSL</td>\n",
       "      <td>Yes</td>\n",
       "      <td>Two year</td>\n",
       "      <td>No</td>\n",
       "      <td>Credit card (automatic)</td>\n",
       "      <td>56.05</td>\n",
       "      <td></td>\n",
       "      <td>No</td>\n",
       "    </tr>\n",
       "    <tr>\n",
       "      <th>7644-OMVMY</th>\n",
       "      <td>Male</td>\n",
       "      <td>0</td>\n",
       "      <td>Yes</td>\n",
       "      <td>Yes</td>\n",
       "      <td>0</td>\n",
       "      <td>Yes</td>\n",
       "      <td>No</td>\n",
       "      <td>No</td>\n",
       "      <td>No internet service</td>\n",
       "      <td>Two year</td>\n",
       "      <td>No</td>\n",
       "      <td>Mailed check</td>\n",
       "      <td>19.85</td>\n",
       "      <td></td>\n",
       "      <td>No</td>\n",
       "    </tr>\n",
       "    <tr>\n",
       "      <th>3213-VVOLG</th>\n",
       "      <td>Male</td>\n",
       "      <td>0</td>\n",
       "      <td>Yes</td>\n",
       "      <td>Yes</td>\n",
       "      <td>0</td>\n",
       "      <td>Yes</td>\n",
       "      <td>Yes</td>\n",
       "      <td>No</td>\n",
       "      <td>No internet service</td>\n",
       "      <td>Two year</td>\n",
       "      <td>No</td>\n",
       "      <td>Mailed check</td>\n",
       "      <td>25.35</td>\n",
       "      <td></td>\n",
       "      <td>No</td>\n",
       "    </tr>\n",
       "    <tr>\n",
       "      <th>2520-SGTTA</th>\n",
       "      <td>Female</td>\n",
       "      <td>0</td>\n",
       "      <td>Yes</td>\n",
       "      <td>Yes</td>\n",
       "      <td>0</td>\n",
       "      <td>Yes</td>\n",
       "      <td>No</td>\n",
       "      <td>No</td>\n",
       "      <td>No internet service</td>\n",
       "      <td>Two year</td>\n",
       "      <td>No</td>\n",
       "      <td>Mailed check</td>\n",
       "      <td>20.00</td>\n",
       "      <td></td>\n",
       "      <td>No</td>\n",
       "    </tr>\n",
       "    <tr>\n",
       "      <th>2923-ARZLG</th>\n",
       "      <td>Male</td>\n",
       "      <td>0</td>\n",
       "      <td>Yes</td>\n",
       "      <td>Yes</td>\n",
       "      <td>0</td>\n",
       "      <td>Yes</td>\n",
       "      <td>No</td>\n",
       "      <td>No</td>\n",
       "      <td>No internet service</td>\n",
       "      <td>One year</td>\n",
       "      <td>Yes</td>\n",
       "      <td>Mailed check</td>\n",
       "      <td>19.70</td>\n",
       "      <td></td>\n",
       "      <td>No</td>\n",
       "    </tr>\n",
       "    <tr>\n",
       "      <th>4075-WKNIU</th>\n",
       "      <td>Female</td>\n",
       "      <td>0</td>\n",
       "      <td>Yes</td>\n",
       "      <td>Yes</td>\n",
       "      <td>0</td>\n",
       "      <td>Yes</td>\n",
       "      <td>Yes</td>\n",
       "      <td>DSL</td>\n",
       "      <td>Yes</td>\n",
       "      <td>Two year</td>\n",
       "      <td>No</td>\n",
       "      <td>Mailed check</td>\n",
       "      <td>73.35</td>\n",
       "      <td></td>\n",
       "      <td>No</td>\n",
       "    </tr>\n",
       "    <tr>\n",
       "      <th>2775-SEFEE</th>\n",
       "      <td>Male</td>\n",
       "      <td>0</td>\n",
       "      <td>No</td>\n",
       "      <td>Yes</td>\n",
       "      <td>0</td>\n",
       "      <td>Yes</td>\n",
       "      <td>Yes</td>\n",
       "      <td>DSL</td>\n",
       "      <td>No</td>\n",
       "      <td>Two year</td>\n",
       "      <td>Yes</td>\n",
       "      <td>Bank transfer (automatic)</td>\n",
       "      <td>61.90</td>\n",
       "      <td></td>\n",
       "      <td>No</td>\n",
       "    </tr>\n",
       "  </tbody>\n",
       "</table>\n",
       "</div>"
      ],
      "text/plain": [
       "            gender  SeniorCitizen Partner Dependents  tenure PhoneService  \\\n",
       "customerID                                                                  \n",
       "4472-LVYGI  Female              0     Yes        Yes       0           No   \n",
       "3115-CZMZD    Male              0      No        Yes       0          Yes   \n",
       "5709-LVOEQ  Female              0     Yes        Yes       0          Yes   \n",
       "4367-NUYAO    Male              0     Yes        Yes       0          Yes   \n",
       "1371-DWPAZ  Female              0     Yes        Yes       0           No   \n",
       "7644-OMVMY    Male              0     Yes        Yes       0          Yes   \n",
       "3213-VVOLG    Male              0     Yes        Yes       0          Yes   \n",
       "2520-SGTTA  Female              0     Yes        Yes       0          Yes   \n",
       "2923-ARZLG    Male              0     Yes        Yes       0          Yes   \n",
       "4075-WKNIU  Female              0     Yes        Yes       0          Yes   \n",
       "2775-SEFEE    Male              0      No        Yes       0          Yes   \n",
       "\n",
       "               MultipleLines InternetService     StreamingService  Contract  \\\n",
       "customerID                                                                    \n",
       "4472-LVYGI  No phone service             DSL                  Yes  Two year   \n",
       "3115-CZMZD                No              No  No internet service  Two year   \n",
       "5709-LVOEQ                No             DSL                  Yes  Two year   \n",
       "4367-NUYAO               Yes              No  No internet service  Two year   \n",
       "1371-DWPAZ  No phone service             DSL                  Yes  Two year   \n",
       "7644-OMVMY                No              No  No internet service  Two year   \n",
       "3213-VVOLG               Yes              No  No internet service  Two year   \n",
       "2520-SGTTA                No              No  No internet service  Two year   \n",
       "2923-ARZLG                No              No  No internet service  One year   \n",
       "4075-WKNIU               Yes             DSL                  Yes  Two year   \n",
       "2775-SEFEE               Yes             DSL                   No  Two year   \n",
       "\n",
       "           PaperlessBilling              PaymentMethod  MonthlyCharges  \\\n",
       "customerID                                                               \n",
       "4472-LVYGI              Yes  Bank transfer (automatic)           52.55   \n",
       "3115-CZMZD               No               Mailed check           20.25   \n",
       "5709-LVOEQ               No               Mailed check           80.85   \n",
       "4367-NUYAO               No               Mailed check           25.75   \n",
       "1371-DWPAZ               No    Credit card (automatic)           56.05   \n",
       "7644-OMVMY               No               Mailed check           19.85   \n",
       "3213-VVOLG               No               Mailed check           25.35   \n",
       "2520-SGTTA               No               Mailed check           20.00   \n",
       "2923-ARZLG              Yes               Mailed check           19.70   \n",
       "4075-WKNIU               No               Mailed check           73.35   \n",
       "2775-SEFEE              Yes  Bank transfer (automatic)           61.90   \n",
       "\n",
       "           TotalCharges Churn  \n",
       "customerID                     \n",
       "4472-LVYGI                 No  \n",
       "3115-CZMZD                 No  \n",
       "5709-LVOEQ                 No  \n",
       "4367-NUYAO                 No  \n",
       "1371-DWPAZ                 No  \n",
       "7644-OMVMY                 No  \n",
       "3213-VVOLG                 No  \n",
       "2520-SGTTA                 No  \n",
       "2923-ARZLG                 No  \n",
       "4075-WKNIU                 No  \n",
       "2775-SEFEE                 No  "
      ]
     },
     "execution_count": 93,
     "metadata": {},
     "output_type": "execute_result"
    }
   ],
   "source": [
    "#Apart from tenure,MonthlyCharges,TotalCharges all are categorical columns\n",
    "train_df[train_df['TotalCharges']==' ']"
   ]
  },
  {
   "cell_type": "code",
   "execution_count": 94,
   "metadata": {
    "collapsed": true
   },
   "outputs": [],
   "source": [
    "#impute total charges where empty string is pesent\n",
    "train_df['TotalCharges'] = np.where(train_df['TotalCharges'] == ' ', train_df['MonthlyCharges'], train_df['TotalCharges'])"
   ]
  },
  {
   "cell_type": "code",
   "execution_count": 95,
   "metadata": {
    "collapsed": true
   },
   "outputs": [],
   "source": [
    "#convert all categorical to numerical using labelencoder\n",
    "\n",
    "# creating instance of labelencoder\n",
    "labelencoder = LabelEncoder()\n",
    "\n",
    "# Assigning numerical values and storing in another column\n",
    "train_df['gender'] = labelencoder.fit_transform(train_df['gender'])\n",
    "train_df['SeniorCitizen'] = labelencoder.fit_transform(train_df['SeniorCitizen'])\n",
    "train_df['Partner'] = labelencoder.fit_transform(train_df['Partner'])\n",
    "train_df['Dependents'] = labelencoder.fit_transform(train_df['Dependents'])\n",
    "train_df['PhoneService'] = labelencoder.fit_transform(train_df['PhoneService'])\n",
    "train_df['MultipleLines'] = labelencoder.fit_transform(train_df['MultipleLines'])\n",
    "train_df['InternetService'] = labelencoder.fit_transform(train_df['InternetService'])\n",
    "train_df['StreamingService'] = labelencoder.fit_transform(train_df['StreamingService'])\n",
    "train_df['Contract'] = labelencoder.fit_transform(train_df['Contract'])\n",
    "train_df['PaperlessBilling'] = labelencoder.fit_transform(train_df['PaperlessBilling'])\n",
    "train_df['PaymentMethod'] = labelencoder.fit_transform(train_df['PaymentMethod'])\n",
    "train_df['Churn'] = labelencoder.fit_transform(train_df['Churn'])\n",
    "train_df['TotalCharges']=train_df['TotalCharges'].astype('float64')"
   ]
  },
  {
   "cell_type": "code",
   "execution_count": 96,
   "metadata": {
    "collapsed": true
   },
   "outputs": [],
   "source": [
    "train_df = pd.get_dummies(train_df, columns = ['gender','SeniorCitizen','Partner','Dependents','PhoneService','MultipleLines',\n",
    "                                                   'InternetService','StreamingService','Contract','PaperlessBilling','PaymentMethod',\n",
    "                                                  ])"
   ]
  },
  {
   "cell_type": "code",
   "execution_count": 97,
   "metadata": {
    "collapsed": true
   },
   "outputs": [
    {
     "name": "stdout",
     "output_type": "stream",
     "text": [
      "<class 'pandas.core.frame.DataFrame'>\n",
      "Index: 7043 entries, 7590-VHVEG to 3186-AJIEK\n",
      "Data columns (total 32 columns):\n",
      " #   Column              Non-Null Count  Dtype  \n",
      "---  ------              --------------  -----  \n",
      " 0   tenure              7043 non-null   int64  \n",
      " 1   MonthlyCharges      7043 non-null   float64\n",
      " 2   TotalCharges        7043 non-null   float64\n",
      " 3   Churn               7043 non-null   int32  \n",
      " 4   gender_0            7043 non-null   uint8  \n",
      " 5   gender_1            7043 non-null   uint8  \n",
      " 6   SeniorCitizen_0     7043 non-null   uint8  \n",
      " 7   SeniorCitizen_1     7043 non-null   uint8  \n",
      " 8   Partner_0           7043 non-null   uint8  \n",
      " 9   Partner_1           7043 non-null   uint8  \n",
      " 10  Dependents_0        7043 non-null   uint8  \n",
      " 11  Dependents_1        7043 non-null   uint8  \n",
      " 12  PhoneService_0      7043 non-null   uint8  \n",
      " 13  PhoneService_1      7043 non-null   uint8  \n",
      " 14  MultipleLines_0     7043 non-null   uint8  \n",
      " 15  MultipleLines_1     7043 non-null   uint8  \n",
      " 16  MultipleLines_2     7043 non-null   uint8  \n",
      " 17  InternetService_0   7043 non-null   uint8  \n",
      " 18  InternetService_1   7043 non-null   uint8  \n",
      " 19  InternetService_2   7043 non-null   uint8  \n",
      " 20  StreamingService_0  7043 non-null   uint8  \n",
      " 21  StreamingService_1  7043 non-null   uint8  \n",
      " 22  StreamingService_2  7043 non-null   uint8  \n",
      " 23  Contract_0          7043 non-null   uint8  \n",
      " 24  Contract_1          7043 non-null   uint8  \n",
      " 25  Contract_2          7043 non-null   uint8  \n",
      " 26  PaperlessBilling_0  7043 non-null   uint8  \n",
      " 27  PaperlessBilling_1  7043 non-null   uint8  \n",
      " 28  PaymentMethod_0     7043 non-null   uint8  \n",
      " 29  PaymentMethod_1     7043 non-null   uint8  \n",
      " 30  PaymentMethod_2     7043 non-null   uint8  \n",
      " 31  PaymentMethod_3     7043 non-null   uint8  \n",
      "dtypes: float64(2), int32(1), int64(1), uint8(28)\n",
      "memory usage: 440.2+ KB\n"
     ]
    }
   ],
   "source": [
    "train_df.info()"
   ]
  },
  {
   "cell_type": "code",
   "execution_count": 98,
   "metadata": {
    "collapsed": true
   },
   "outputs": [],
   "source": [
    "#Separate independent features and dependent features\n",
    "X=train_df.loc[:, df.columns != 'Churn']\n",
    "y=train_df['Churn'].ravel()"
   ]
  },
  {
   "cell_type": "code",
   "execution_count": 74,
   "metadata": {
    "collapsed": true
   },
   "outputs": [],
   "source": [
    "#Convert dependent featue(label or output into numerical binary feature)\n",
    "y=np.where(y == 'Yes', 1, 0).astype('float64')"
   ]
  },
  {
   "cell_type": "code",
   "execution_count": 99,
   "metadata": {
    "collapsed": true
   },
   "outputs": [
    {
     "name": "stdout",
     "output_type": "stream",
     "text": [
      "(5634, 31) (5634,)\n",
      "(1409, 31) (1409,)\n"
     ]
    }
   ],
   "source": [
    "#split the traing data in training and validation set\n",
    "from sklearn.model_selection import train_test_split\n",
    "X_train,X_test,y_train,y_test=train_test_split(X,y,test_size=0.2,random_state=0)\n",
    "print(X_train.shape,y_train.shape)\n",
    "print(X_test.shape,y_test.shape)"
   ]
  },
  {
   "cell_type": "code",
   "execution_count": 100,
   "metadata": {
    "collapsed": true
   },
   "outputs": [],
   "source": [
    "model_log_reg=LogisticRegression()"
   ]
  },
  {
   "cell_type": "code",
   "execution_count": 80,
   "metadata": {
    "collapsed": true
   },
   "outputs": [
    {
     "data": {
      "text/plain": [
       "numpy.ndarray"
      ]
     },
     "execution_count": 80,
     "metadata": {},
     "output_type": "execute_result"
    }
   ],
   "source": [
    "type(y)"
   ]
  },
  {
   "cell_type": "code",
   "execution_count": 101,
   "metadata": {
    "collapsed": true
   },
   "outputs": [
    {
     "name": "stderr",
     "output_type": "stream",
     "text": [
      "C:\\Users\\abc\\anaconda3\\lib\\site-packages\\sklearn\\linear_model\\_logistic.py:762: ConvergenceWarning: lbfgs failed to converge (status=1):\n",
      "STOP: TOTAL NO. of ITERATIONS REACHED LIMIT.\n",
      "\n",
      "Increase the number of iterations (max_iter) or scale the data as shown in:\n",
      "    https://scikit-learn.org/stable/modules/preprocessing.html\n",
      "Please also refer to the documentation for alternative solver options:\n",
      "    https://scikit-learn.org/stable/modules/linear_model.html#logistic-regression\n",
      "  n_iter_i = _check_optimize_result(\n"
     ]
    },
    {
     "data": {
      "text/plain": [
       "LogisticRegression()"
      ]
     },
     "execution_count": 101,
     "metadata": {},
     "output_type": "execute_result"
    }
   ],
   "source": [
    "model_log_reg.fit(X,y)"
   ]
  },
  {
   "cell_type": "code",
   "execution_count": 103,
   "metadata": {},
   "outputs": [],
   "source": [
    "y_pred=model_log_reg.predict(X_test)"
   ]
  },
  {
   "cell_type": "code",
   "execution_count": 104,
   "metadata": {},
   "outputs": [
    {
     "data": {
      "text/plain": [
       "array([[929, 112],\n",
       "       [184, 184]], dtype=int64)"
      ]
     },
     "execution_count": 104,
     "metadata": {},
     "output_type": "execute_result"
    }
   ],
   "source": [
    "confusion_matrix(y_test, y_pred)"
   ]
  },
  {
   "cell_type": "code",
   "execution_count": 107,
   "metadata": {},
   "outputs": [
    {
     "name": "stdout",
     "output_type": "stream",
     "text": [
      "0.696205571565802\n",
      "0.6216216216216216\n",
      "0.6216216216216216\n",
      "0.5542168674698795\n",
      "0.7899219304471257\n"
     ]
    }
   ],
   "source": [
    "print(roc_auc_score(y_test, y_pred))\n",
    "print(recall_score(y_pred, y_test))\n",
    "print(precision_score(y_test, y_pred))\n",
    "print(f1_score(y_test, y_pred))\n",
    "print(accuracy_score(y_test, y_pred))"
   ]
  },
  {
   "cell_type": "code",
   "execution_count": 59,
   "metadata": {
    "collapsed": true
   },
   "outputs": [],
   "source": [
    "y_pred=clf.predict(X_test)"
   ]
  },
  {
   "cell_type": "code",
   "execution_count": 61,
   "metadata": {},
   "outputs": [
    {
     "data": {
      "text/plain": [
       "array([[961,  80],\n",
       "       [218, 150]], dtype=int64)"
      ]
     },
     "execution_count": 61,
     "metadata": {},
     "output_type": "execute_result"
    }
   ],
   "source": [
    "confusion_matrix(y_test, y_pred)"
   ]
  },
  {
   "cell_type": "code",
   "execution_count": 72,
   "metadata": {
    "collapsed": true
   },
   "outputs": [
    {
     "name": "stdout",
     "output_type": "stream",
     "text": [
      "0.6653797560873741\n",
      "0.6521739130434783\n",
      "0.6521739130434783\n",
      "0.5016722408026757\n"
     ]
    }
   ],
   "source": [
    "print(roc_auc_score(y_test, y_pred))\n",
    "print(recall_score(y_pred, y_test))\n",
    "print(precision_score(y_test, y_pred))\n",
    "print(f1_score(y_test, y_pred))"
   ]
  }
 ],
 "metadata": {
  "kernelspec": {
   "display_name": "Python 3",
   "language": "python",
   "name": "python3"
  },
  "language_info": {
   "codemirror_mode": {
    "name": "ipython",
    "version": 3
   },
   "file_extension": ".py",
   "mimetype": "text/x-python",
   "name": "python",
   "nbconvert_exporter": "python",
   "pygments_lexer": "ipython3",
   "version": "3.8.5"
  }
 },
 "nbformat": 4,
 "nbformat_minor": 4
}
